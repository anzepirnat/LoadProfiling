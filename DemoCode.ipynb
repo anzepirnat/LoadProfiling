{
  "nbformat": 4,
  "nbformat_minor": 0,
  "metadata": {
    "colab": {
      "name": "DemoCode.ipynb",
      "provenance": [],
      "collapsed_sections": []
    },
    "kernelspec": {
      "name": "python3",
      "display_name": "Python 3"
    },
    "language_info": {
      "name": "python"
    }
  },
  "cells": [
    {
      "cell_type": "code",
      "execution_count": 2,
      "metadata": {
        "id": "X4f9IiqXGM4t"
      },
      "outputs": [],
      "source": [
        "import h5py\n",
        "import numpy as np\n",
        "import os \n",
        "import statistics\n",
        "from datetime import datetime\n",
        "import datetime as datet\n",
        "import matplotlib.pyplot as plt\n",
        "from operator import add\n",
        "import seaborn as sns\n",
        "import pandas as pd\n",
        "\n",
        "from scipy.signal import savgol_filter\n",
        "from matplotlib.ticker import MaxNLocator\n",
        "\n",
        "import pickle\n",
        "\n",
        "from typing_extensions import Literal\n",
        "\n",
        "# Set figure resolution.\n",
        "plt.rcParams[\"figure.dpi\"] = 150"
      ]
    },
    {
      "cell_type": "code",
      "source": [
        "from google.colab import drive\n",
        "drive.mount(\"/content/drive/\")"
      ],
      "metadata": {
        "colab": {
          "base_uri": "https://localhost:8080/"
        },
        "id": "sJi0jMAOGRiG",
        "outputId": "4b1d2427-a914-4b29-d4ad-002abcfae35d"
      },
      "execution_count": 3,
      "outputs": [
        {
          "output_type": "stream",
          "name": "stdout",
          "text": [
            "Mounted at /content/drive/\n"
          ]
        }
      ]
    },
    {
      "cell_type": "code",
      "source": [
        "cd \"/content/drive/MyDrive/datasets/refit/\""
      ],
      "metadata": {
        "colab": {
          "base_uri": "https://localhost:8080/"
        },
        "id": "ytwCBCX_GV_t",
        "outputId": "1e3ff0fc-2d0e-4dc8-b5c9-71efd238a19f"
      },
      "execution_count": 4,
      "outputs": [
        {
          "output_type": "stream",
          "name": "stdout",
          "text": [
            "/content/drive/MyDrive/datasets/refit\n"
          ]
        }
      ]
    },
    {
      "cell_type": "code",
      "source": [
        "# Collab does not support protocol5 by def, this is workaround\n",
        "!pip3 install pickle5\n",
        "import pickle5 as pickle\n",
        "with open(\"EC_UI_demo_res.pkl\", \"rb\") as fh:\n",
        "  data = pickle.load(fh)"
      ],
      "metadata": {
        "colab": {
          "base_uri": "https://localhost:8080/"
        },
        "id": "OtNnNR7pGcfE",
        "outputId": "5a0cee8c-d801-484f-cc9e-3ef4d52b6351"
      },
      "execution_count": 5,
      "outputs": [
        {
          "output_type": "stream",
          "name": "stdout",
          "text": [
            "Looking in indexes: https://pypi.org/simple, https://us-python.pkg.dev/colab-wheels/public/simple/\n",
            "Collecting pickle5\n",
            "  Downloading pickle5-0.0.12-cp37-cp37m-manylinux_2_5_x86_64.manylinux1_x86_64.whl (256 kB)\n",
            "\u001b[K     |████████████████████████████████| 256 kB 4.4 MB/s \n",
            "\u001b[?25hInstalling collected packages: pickle5\n",
            "Successfully installed pickle5-0.0.12\n"
          ]
        }
      ]
    },
    {
      "cell_type": "code",
      "source": [
        "fh = open(\"EC_UI_demo_res.pkl\", \"rb\")\n",
        "r = pickle.load(fh)"
      ],
      "metadata": {
        "id": "JMMdmPNMGeu0"
      },
      "execution_count": 6,
      "outputs": []
    },
    {
      "cell_type": "code",
      "source": [
        "# For UI i would say usefull ones are\n",
        "\n",
        "# - activation matrix\n",
        "# - stds (standard deviations for list of good and bad appliances)\n",
        "# - LP (Load profile could also be presented as a graph)\n",
        "# - date_norm_test and date_anom_test for checking anomalues \n",
        "# - date_norm_train and date_anom_train ?? could be used i gueess\n",
        "\n",
        "# others are probably not as usefull...\n",
        "\n",
        "r.columns"
      ],
      "metadata": {
        "colab": {
          "base_uri": "https://localhost:8080/"
        },
        "id": "v023LYI9GgkA",
        "outputId": "d14170bf-9d59-4fbe-bd24-27ea7e734986"
      },
      "execution_count": 7,
      "outputs": [
        {
          "output_type": "execute_result",
          "data": {
            "text/plain": [
              "Index(['dataset', 'anom_ratio', 'building', 'dyn_n', 'train_percs',\n",
              "       'test_percs', 'avg_anom_ratio', 'percent_bellow', 'n_days_train',\n",
              "       'n_days_test', 'app_health_train', 'app_health_test',\n",
              "       'activation_matrix', 'stds', 'LP', 'date_norm_train', 'date_anom_train',\n",
              "       'date_norm_test', 'date_anom_test', 'buckets_to_use',\n",
              "       'param_std_threshold', 'parm_probability_threshold', 'param_time_res',\n",
              "       'param_LP_time_range', 'param_LP_buckets', 'param_omit_weekends'],\n",
              "      dtype='object')"
            ]
          },
          "metadata": {},
          "execution_count": 7
        }
      ]
    },
    {
      "cell_type": "code",
      "source": [
        "# All values for building 1 with anomales. \n",
        "r[r[\"building\"]==3][\"date_anom_test\"].values[0]\n",
        "\n",
        "# All values for building 1 with anomales. \n",
        "#r[r[\"building\"]==1][\"date_norm_test\"].values[0]"
      ],
      "metadata": {
        "id": "bJ9DlUsiGkTg"
      },
      "execution_count": null,
      "outputs": []
    },
    {
      "cell_type": "code",
      "source": [
        "# Get first date of the test data (train data contains a lot more data!)\n",
        "first_date = r[r[\"building\"]==1][\"date_anom_test\"].values[0][0]\n",
        "last_date = r[r[\"building\"]==1][\"date_anom_test\"].values[0][-1]\n",
        "print(\"first date\", first_date)\n",
        "print(\"last date\", last_date)"
      ],
      "metadata": {
        "colab": {
          "base_uri": "https://localhost:8080/"
        },
        "id": "iUre4kZXGomk",
        "outputId": "b7f80154-36c7-45c9-cf0d-f6643958b973"
      },
      "execution_count": 9,
      "outputs": [
        {
          "output_type": "stream",
          "name": "stdout",
          "text": [
            "first date 2015-03-06 18:00:00\n",
            "last date 2015-07-09 18:00:00\n"
          ]
        }
      ]
    },
    {
      "cell_type": "code",
      "source": [
        "x = r[r[\"building\"]==1][\"date_anom_test\"].values[0][2]\n",
        "print(\"datum\", x)"
      ],
      "metadata": {
        "id": "JFM-d3E_P2UU",
        "colab": {
          "base_uri": "https://localhost:8080/"
        },
        "outputId": "92605c58-f5c9-497a-8c60-5577231fc334"
      },
      "execution_count": 10,
      "outputs": [
        {
          "output_type": "stream",
          "name": "stdout",
          "text": [
            "datum 2015-03-07 18:00:00\n"
          ]
        }
      ]
    },
    {
      "cell_type": "code",
      "source": [
        "# Get all dates in between with hourly freq.\n",
        "dates = pd.date_range(start=first_date,end=last_date,freq=\"H\")"
      ],
      "metadata": {
        "id": "wD8sHkBHGrQs"
      },
      "execution_count": 11,
      "outputs": []
    },
    {
      "cell_type": "code",
      "source": [
        "#|||||||||||||||||||||||||||||||||||||||||||||||||||||||||||||||||||||||\n",
        "#||||||||||||||||||||||||||||||Heatmaps|||||||||||||||||||||||||||||||||\n",
        "#|||||||||||||||||||||||||||||||||||||||||||||||||||||||||||||||||||||||\n",
        "\n",
        "from google.colab import files\n",
        "for i in range(1,12):\n",
        "  LP = r[r[\"building\"]==i][\"LP\"].values[0]\n",
        "  buckets = r[r[\"building\"]==i][\"param_LP_buckets\"].values[0]\n",
        "  for appliance, values in LP.items():\n",
        "    try:\n",
        "      LP[appliance] = [float(i)/max(values) for i in values]\n",
        "    except (ZeroDivisionError) as e:\n",
        "      print(\"ZeroDiv err\")\n",
        "      activations[appliance]  = [0]*buckets\n",
        "  hist = [np.array(list(d)) for d in LP.values()]  \n",
        "  plt.figure(figsize=(8, 6), dpi=150)\n",
        "  sns.heatmap(hist, yticklabels=list(LP.keys()))\n",
        "  plt.savefig(f\"heatmap{i}.png\", bbox_inches='tight')\n",
        "  files.download(f\"heatmap{i}.png\")\n",
        "  plt.pause(0.05)\n",
        "\n",
        "for i in range(13,17):\n",
        "  LP = r[r[\"building\"]==i][\"LP\"].values[0]\n",
        "  buckets = r[r[\"building\"]==i][\"param_LP_buckets\"].values[0]\n",
        "  for appliance, values in LP.items():\n",
        "    try:\n",
        "      LP[appliance] = [float(i)/max(values) for i in values]\n",
        "    except (ZeroDivisionError) as e:\n",
        "      print(\"ZeroDiv err\")\n",
        "      activations[appliance]  = [0]*buckets\n",
        "  hist = [np.array(list(d)) for d in LP.values()]  \n",
        "  plt.figure(figsize=(8, 6), dpi=150)\n",
        "  sns.heatmap(hist, yticklabels=list(LP.keys()))\n",
        "  plt.savefig(f\"heatmap{i}.png\", bbox_inches='tight')\n",
        "  files.download(f\"heatmap{i}.png\")\n",
        "  plt.pause(0.05)\n",
        "for i in range(18,21):\n",
        "  LP = r[r[\"building\"]==i][\"LP\"].values[0]\n",
        "  buckets = r[r[\"building\"]==i][\"param_LP_buckets\"].values[0]\n",
        "  for appliance, values in LP.items():\n",
        "    try:\n",
        "      LP[appliance] = [float(i)/max(values) for i in values]\n",
        "    except (ZeroDivisionError) as e:\n",
        "      print(\"ZeroDiv err\")\n",
        "      activations[appliance]  = [0]*buckets\n",
        "  hist = [np.array(list(d)) for d in LP.values()]  \n",
        "  plt.figure(figsize=(8, 6), dpi=150)\n",
        "  sns.heatmap(hist, yticklabels=list(LP.keys()))\n",
        "  plt.savefig(f\"heatmap{i}.png\", bbox_inches='tight')\n",
        "  files.download(f\"heatmap{i}.png\")\n",
        "  plt.pause(0.05)\n"
      ],
      "metadata": {
        "id": "E_P8KE041FsV",
        "colab": {
          "base_uri": "https://localhost:8080/",
          "height": 1000
        },
        "outputId": "2eda7bab-5112-4a41-8303-425d48fd4935"
      },
      "execution_count": 83,
      "outputs": [
        {
          "output_type": "display_data",
          "data": {
            "text/plain": [
              "<IPython.core.display.Javascript object>"
            ],
            "application/javascript": [
              "\n",
              "    async function download(id, filename, size) {\n",
              "      if (!google.colab.kernel.accessAllowed) {\n",
              "        return;\n",
              "      }\n",
              "      const div = document.createElement('div');\n",
              "      const label = document.createElement('label');\n",
              "      label.textContent = `Downloading \"${filename}\": `;\n",
              "      div.appendChild(label);\n",
              "      const progress = document.createElement('progress');\n",
              "      progress.max = size;\n",
              "      div.appendChild(progress);\n",
              "      document.body.appendChild(div);\n",
              "\n",
              "      const buffers = [];\n",
              "      let downloaded = 0;\n",
              "\n",
              "      const channel = await google.colab.kernel.comms.open(id);\n",
              "      // Send a message to notify the kernel that we're ready.\n",
              "      channel.send({})\n",
              "\n",
              "      for await (const message of channel.messages) {\n",
              "        // Send a message to notify the kernel that we're ready.\n",
              "        channel.send({})\n",
              "        if (message.buffers) {\n",
              "          for (const buffer of message.buffers) {\n",
              "            buffers.push(buffer);\n",
              "            downloaded += buffer.byteLength;\n",
              "            progress.value = downloaded;\n",
              "          }\n",
              "        }\n",
              "      }\n",
              "      const blob = new Blob(buffers, {type: 'application/binary'});\n",
              "      const a = document.createElement('a');\n",
              "      a.href = window.URL.createObjectURL(blob);\n",
              "      a.download = filename;\n",
              "      div.appendChild(a);\n",
              "      a.click();\n",
              "      div.remove();\n",
              "    }\n",
              "  "
            ]
          },
          "metadata": {}
        },
        {
          "output_type": "display_data",
          "data": {
            "text/plain": [
              "<IPython.core.display.Javascript object>"
            ],
            "application/javascript": [
              "download(\"download_220be434-f28d-4e3e-85a2-68e6d05371f5\", \"heatmap13.png\", 36804)"
            ]
          },
          "metadata": {}
        },
        {
          "output_type": "display_data",
          "data": {
            "text/plain": [
              "<Figure size 1200x900 with 2 Axes>"
            ],
            "image/png": "[encoded data removed]"
          },
          "metadata": {
            "needs_background": "light"
          }
        },
        {
          "output_type": "display_data",
          "data": {
            "text/plain": [
              "<IPython.core.display.Javascript object>"
            ],
            "application/javascript": [
              "\n",
              "    async function download(id, filename, size) {\n",
              "      if (!google.colab.kernel.accessAllowed) {\n",
              "        return;\n",
              "      }\n",
              "      const div = document.createElement('div');\n",
              "      const label = document.createElement('label');\n",
              "      label.textContent = `Downloading \"${filename}\": `;\n",
              "      div.appendChild(label);\n",
              "      const progress = document.createElement('progress');\n",
              "      progress.max = size;\n",
              "      div.appendChild(progress);\n",
              "      document.body.appendChild(div);\n",
              "\n",
              "      const buffers = [];\n",
              "      let downloaded = 0;\n",
              "\n",
              "      const channel = await google.colab.kernel.comms.open(id);\n",
              "      // Send a message to notify the kernel that we're ready.\n",
              "      channel.send({})\n",
              "\n",
              "      for await (const message of channel.messages) {\n",
              "        // Send a message to notify the kernel that we're ready.\n",
              "        channel.send({})\n",
              "        if (message.buffers) {\n",
              "          for (const buffer of message.buffers) {\n",
              "            buffers.push(buffer);\n",
              "            downloaded += buffer.byteLength;\n",
              "            progress.value = downloaded;\n",
              "          }\n",
              "        }\n",
              "      }\n",
              "      const blob = new Blob(buffers, {type: 'application/binary'});\n",
              "      const a = document.createElement('a');\n",
              "      a.href = window.URL.createObjectURL(blob);\n",
              "      a.download = filename;\n",
              "      div.appendChild(a);\n",
              "      a.click();\n",
              "      div.remove();\n",
              "    }\n",
              "  "
            ]
          },
          "metadata": {}
        },
        {
          "output_type": "display_data",
          "data": {
            "text/plain": [
              "<IPython.core.display.Javascript object>"
            ],
            "application/javascript": [
              "download(\"download_1aaa75c3-732a-4877-aed8-237c29370868\", \"heatmap14.png\", 41088)"
            ]
          },
          "metadata": {}
        },
        {
          "output_type": "display_data",
          "data": {
            "text/plain": [
              "<Figure size 1200x900 with 2 Axes>"
            ],
            "image/png": "[encoded data removed]"
          },
          "metadata": {
            "needs_background": "light"
          }
        },
        {
          "output_type": "display_data",
          "data": {
            "text/plain": [
              "<IPython.core.display.Javascript object>"
            ],
            "application/javascript": [
              "\n",
              "    async function download(id, filename, size) {\n",
              "      if (!google.colab.kernel.accessAllowed) {\n",
              "        return;\n",
              "      }\n",
              "      const div = document.createElement('div');\n",
              "      const label = document.createElement('label');\n",
              "      label.textContent = `Downloading \"${filename}\": `;\n",
              "      div.appendChild(label);\n",
              "      const progress = document.createElement('progress');\n",
              "      progress.max = size;\n",
              "      div.appendChild(progress);\n",
              "      document.body.appendChild(div);\n",
              "\n",
              "      const buffers = [];\n",
              "      let downloaded = 0;\n",
              "\n",
              "      const channel = await google.colab.kernel.comms.open(id);\n",
              "      // Send a message to notify the kernel that we're ready.\n",
              "      channel.send({})\n",
              "\n",
              "      for await (const message of channel.messages) {\n",
              "        // Send a message to notify the kernel that we're ready.\n",
              "        channel.send({})\n",
              "        if (message.buffers) {\n",
              "          for (const buffer of message.buffers) {\n",
              "            buffers.push(buffer);\n",
              "            downloaded += buffer.byteLength;\n",
              "            progress.value = downloaded;\n",
              "          }\n",
              "        }\n",
              "      }\n",
              "      const blob = new Blob(buffers, {type: 'application/binary'});\n",
              "      const a = document.createElement('a');\n",
              "      a.href = window.URL.createObjectURL(blob);\n",
              "      a.download = filename;\n",
              "      div.appendChild(a);\n",
              "      a.click();\n",
              "      div.remove();\n",
              "    }\n",
              "  "
            ]
          },
          "metadata": {}
        },
        {
          "output_type": "display_data",
          "data": {
            "text/plain": [
              "<IPython.core.display.Javascript object>"
            ],
            "application/javascript": [
              "download(\"download_f5822e68-272b-4c1d-999d-6678ff51952e\", \"heatmap15.png\", 37799)"
            ]
          },
          "metadata": {}
        },
        {
          "output_type": "display_data",
          "data": {
            "text/plain": [
              "<Figure size 1200x900 with 2 Axes>"
            ],
            "image/png": "[encoded data removed]"
          },
          "metadata": {
            "needs_background": "light"
          }
        },
        {
          "output_type": "display_data",
          "data": {
            "text/plain": [
              "<IPython.core.display.Javascript object>"
            ],
            "application/javascript": [
              "\n",
              "    async function download(id, filename, size) {\n",
              "      if (!google.colab.kernel.accessAllowed) {\n",
              "        return;\n",
              "      }\n",
              "      const div = document.createElement('div');\n",
              "      const label = document.createElement('label');\n",
              "      label.textContent = `Downloading \"${filename}\": `;\n",
              "      div.appendChild(label);\n",
              "      const progress = document.createElement('progress');\n",
              "      progress.max = size;\n",
              "      div.appendChild(progress);\n",
              "      document.body.appendChild(div);\n",
              "\n",
              "      const buffers = [];\n",
              "      let downloaded = 0;\n",
              "\n",
              "      const channel = await google.colab.kernel.comms.open(id);\n",
              "      // Send a message to notify the kernel that we're ready.\n",
              "      channel.send({})\n",
              "\n",
              "      for await (const message of channel.messages) {\n",
              "        // Send a message to notify the kernel that we're ready.\n",
              "        channel.send({})\n",
              "        if (message.buffers) {\n",
              "          for (const buffer of message.buffers) {\n",
              "            buffers.push(buffer);\n",
              "            downloaded += buffer.byteLength;\n",
              "            progress.value = downloaded;\n",
              "          }\n",
              "        }\n",
              "      }\n",
              "      const blob = new Blob(buffers, {type: 'application/binary'});\n",
              "      const a = document.createElement('a');\n",
              "      a.href = window.URL.createObjectURL(blob);\n",
              "      a.download = filename;\n",
              "      div.appendChild(a);\n",
              "      a.click();\n",
              "      div.remove();\n",
              "    }\n",
              "  "
            ]
          },
          "metadata": {}
        },
        {
          "output_type": "display_data",
          "data": {
            "text/plain": [
              "<IPython.core.display.Javascript object>"
            ],
            "application/javascript": [
              "download(\"download_a19161af-615b-4017-8239-28b2e63e5a31\", \"heatmap16.png\", 35318)"
            ]
          },
          "metadata": {}
        },
        {
          "output_type": "display_data",
          "data": {
            "text/plain": [
              "<Figure size 1200x900 with 2 Axes>"
            ],
            "image/png": "[encoded data removed]"
          },
          "metadata": {
            "needs_background": "light"
          }
        },
        {
          "output_type": "display_data",
          "data": {
            "text/plain": [
              "<IPython.core.display.Javascript object>"
            ],
            "application/javascript": [
              "\n",
              "    async function download(id, filename, size) {\n",
              "      if (!google.colab.kernel.accessAllowed) {\n",
              "        return;\n",
              "      }\n",
              "      const div = document.createElement('div');\n",
              "      const label = document.createElement('label');\n",
              "      label.textContent = `Downloading \"${filename}\": `;\n",
              "      div.appendChild(label);\n",
              "      const progress = document.createElement('progress');\n",
              "      progress.max = size;\n",
              "      div.appendChild(progress);\n",
              "      document.body.appendChild(div);\n",
              "\n",
              "      const buffers = [];\n",
              "      let downloaded = 0;\n",
              "\n",
              "      const channel = await google.colab.kernel.comms.open(id);\n",
              "      // Send a message to notify the kernel that we're ready.\n",
              "      channel.send({})\n",
              "\n",
              "      for await (const message of channel.messages) {\n",
              "        // Send a message to notify the kernel that we're ready.\n",
              "        channel.send({})\n",
              "        if (message.buffers) {\n",
              "          for (const buffer of message.buffers) {\n",
              "            buffers.push(buffer);\n",
              "            downloaded += buffer.byteLength;\n",
              "            progress.value = downloaded;\n",
              "          }\n",
              "        }\n",
              "      }\n",
              "      const blob = new Blob(buffers, {type: 'application/binary'});\n",
              "      const a = document.createElement('a');\n",
              "      a.href = window.URL.createObjectURL(blob);\n",
              "      a.download = filename;\n",
              "      div.appendChild(a);\n",
              "      a.click();\n",
              "      div.remove();\n",
              "    }\n",
              "  "
            ]
          },
          "metadata": {}
        },
        {
          "output_type": "display_data",
          "data": {
            "text/plain": [
              "<IPython.core.display.Javascript object>"
            ],
            "application/javascript": [
              "download(\"download_90656e80-a85d-434a-a825-633e6c01d868\", \"heatmap18.png\", 41571)"
            ]
          },
          "metadata": {}
        },
        {
          "output_type": "display_data",
          "data": {
            "text/plain": [
              "<Figure size 1200x900 with 2 Axes>"
            ],
            "image/png": "[encoded data removed]"
          },
          "metadata": {
            "needs_background": "light"
          }
        },
        {
          "output_type": "display_data",
          "data": {
            "text/plain": [
              "<IPython.core.display.Javascript object>"
            ],
            "application/javascript": [
              "\n",
              "    async function download(id, filename, size) {\n",
              "      if (!google.colab.kernel.accessAllowed) {\n",
              "        return;\n",
              "      }\n",
              "      const div = document.createElement('div');\n",
              "      const label = document.createElement('label');\n",
              "      label.textContent = `Downloading \"${filename}\": `;\n",
              "      div.appendChild(label);\n",
              "      const progress = document.createElement('progress');\n",
              "      progress.max = size;\n",
              "      div.appendChild(progress);\n",
              "      document.body.appendChild(div);\n",
              "\n",
              "      const buffers = [];\n",
              "      let downloaded = 0;\n",
              "\n",
              "      const channel = await google.colab.kernel.comms.open(id);\n",
              "      // Send a message to notify the kernel that we're ready.\n",
              "      channel.send({})\n",
              "\n",
              "      for await (const message of channel.messages) {\n",
              "        // Send a message to notify the kernel that we're ready.\n",
              "        channel.send({})\n",
              "        if (message.buffers) {\n",
              "          for (const buffer of message.buffers) {\n",
              "            buffers.push(buffer);\n",
              "            downloaded += buffer.byteLength;\n",
              "            progress.value = downloaded;\n",
              "          }\n",
              "        }\n",
              "      }\n",
              "      const blob = new Blob(buffers, {type: 'application/binary'});\n",
              "      const a = document.createElement('a');\n",
              "      a.href = window.URL.createObjectURL(blob);\n",
              "      a.download = filename;\n",
              "      div.appendChild(a);\n",
              "      a.click();\n",
              "      div.remove();\n",
              "    }\n",
              "  "
            ]
          },
          "metadata": {}
        },
        {
          "output_type": "display_data",
          "data": {
            "text/plain": [
              "<IPython.core.display.Javascript object>"
            ],
            "application/javascript": [
              "download(\"download_08e2bad5-3055-40d0-a4f4-506cfaa9c236\", \"heatmap19.png\", 37846)"
            ]
          },
          "metadata": {}
        },
        {
          "output_type": "display_data",
          "data": {
            "text/plain": [
              "<Figure size 1200x900 with 2 Axes>"
            ],
            "image/png": "[encoded data removed]"
          },
          "metadata": {
            "needs_background": "light"
          }
        },
        {
          "output_type": "display_data",
          "data": {
            "text/plain": [
              "<IPython.core.display.Javascript object>"
            ],
            "application/javascript": [
              "\n",
              "    async function download(id, filename, size) {\n",
              "      if (!google.colab.kernel.accessAllowed) {\n",
              "        return;\n",
              "      }\n",
              "      const div = document.createElement('div');\n",
              "      const label = document.createElement('label');\n",
              "      label.textContent = `Downloading \"${filename}\": `;\n",
              "      div.appendChild(label);\n",
              "      const progress = document.createElement('progress');\n",
              "      progress.max = size;\n",
              "      div.appendChild(progress);\n",
              "      document.body.appendChild(div);\n",
              "\n",
              "      const buffers = [];\n",
              "      let downloaded = 0;\n",
              "\n",
              "      const channel = await google.colab.kernel.comms.open(id);\n",
              "      // Send a message to notify the kernel that we're ready.\n",
              "      channel.send({})\n",
              "\n",
              "      for await (const message of channel.messages) {\n",
              "        // Send a message to notify the kernel that we're ready.\n",
              "        channel.send({})\n",
              "        if (message.buffers) {\n",
              "          for (const buffer of message.buffers) {\n",
              "            buffers.push(buffer);\n",
              "            downloaded += buffer.byteLength;\n",
              "            progress.value = downloaded;\n",
              "          }\n",
              "        }\n",
              "      }\n",
              "      const blob = new Blob(buffers, {type: 'application/binary'});\n",
              "      const a = document.createElement('a');\n",
              "      a.href = window.URL.createObjectURL(blob);\n",
              "      a.download = filename;\n",
              "      div.appendChild(a);\n",
              "      a.click();\n",
              "      div.remove();\n",
              "    }\n",
              "  "
            ]
          },
          "metadata": {}
        },
        {
          "output_type": "display_data",
          "data": {
            "text/plain": [
              "<IPython.core.display.Javascript object>"
            ],
            "application/javascript": [
              "download(\"download_504c57fe-3839-4bdb-82b1-78ffff733ecb\", \"heatmap20.png\", 40430)"
            ]
          },
          "metadata": {}
        },
        {
          "output_type": "display_data",
          "data": {
            "text/plain": [
              "<Figure size 1200x900 with 2 Axes>"
            ],
            "image/png": "[encoded data removed]"
          },
          "metadata": {
            "needs_background": "light"
          }
        }
      ]
    },
    {
      "cell_type": "code",
      "source": [
        "def calc_perc(anom: list, norm: list) -> float:\n",
        "    \"Function returns percentage ratio between normal and abnormal samples.\"\n",
        "\n",
        "    anom = len(anom)\n",
        "    norm = len(norm)\n",
        "\n",
        "    return 100*(norm)/(anom+norm)\n",
        "\n",
        "def filter_dates(data, start_date, end_date):\n",
        "  \"function returns dates betwen start and stop\"\n",
        "  return [d for d in data if d > start_date and d < end_date]"
      ],
      "metadata": {
        "id": "7ALiIb_sGyDt"
      },
      "execution_count": 12,
      "outputs": []
    },
    {
      "cell_type": "code",
      "source": [
        "#|||||||||||||||||||||||||||||||||||||||||||||||||||||||||||||||||||||||||||||||\n",
        "#||||||||||||||||||||||||||||||||Routine%Code|||||||||||||||||||||||||||||||||||\n",
        "#|||||||||||||||||||||||||||||||||||||||||||||||||||||||||||||||||||||||||||||||\n",
        "\n",
        "# Parse results from pandas data frame.\n",
        "\n",
        "all_measurements = []\n",
        "buildings_check = {\n",
        "        \"refit\":[],\n",
        "        \"eco\":[],\n",
        "        \"uk-dale\":[]\n",
        "    }\n",
        "\n",
        "for ds in [\"refit\"]:  #[\"eco\", \"uk-dale\", \"refit\"]:\n",
        "\n",
        "    print(\"starting\",ds)\n",
        "    time_res = \"days\"\n",
        "    measurements = []\n",
        "    buildings = []\n",
        "    count = 0\n",
        "    lens = []\n",
        "    tl_from =[]\n",
        "    tl_to = []\n",
        "\n",
        "    \n",
        "    for building in r[r[\"dataset\"]==ds][\"building\"]:\n",
        "\n",
        "\n",
        "        print(\"starting building\",building)\n",
        "\n",
        "\n",
        "        for key, item in r[r[\"dataset\"]==ds][r[\"building\"]==building].iteritems():\n",
        "            \n",
        "            # To get train data change to key == \"date_norm_train\": ---------------------------- ! importat\n",
        "            if key == \"date_norm_test\":\n",
        "                date_norm = item.to_list()[0]\n",
        "\n",
        "            if key == \"date_anom_test\":\n",
        "                date_anom = item.to_list()[0]\n",
        "\n",
        "        if time_res == \"months\":\n",
        "            _,a = (np.unique(np.array([e.month for e in date_anom]), return_counts=True))\n",
        "            _,n = (np.unique(np.array([e.month for e in date_norm]), return_counts=True))\n",
        "\n",
        "\n",
        "        elif time_res == \"days\":\n",
        "            _,a = (np.unique(np.array([e.weekday() for e in date_anom]), return_counts=True))\n",
        "            _,n = (np.unique(np.array([e.weekday() for e in date_norm]), return_counts=True))\n",
        "            x = [ 'Monday', 'Tuesday','Wednesday', 'Thursday', 'Friday', 'Saturday', 'Sunday']\n",
        "\n",
        "\n",
        "        elif time_res == \"weeks\":\n",
        "            _,a = (np.unique(np.array([int(e.strftime(\"%V\")) for e in date_anom]), return_counts=True))\n",
        "            _,n = (np.unique(np.array([int(e.strftime(\"%V\")) for e in date_norm]), return_counts=True))\n",
        "\n",
        "        elif time_res == \"hours\":\n",
        "            _,a = (np.unique(np.array([e.hour for e in date_anom]), return_counts=True))\n",
        "            _,n = (np.unique(np.array([e.hour for e in date_norm]), return_counts=True))\n",
        "\n",
        "        else:\n",
        "            print(\"Please select suitable time range!\")\n",
        "            \n",
        "        s = sum(a)+sum(n)\n",
        "        \n",
        "        lens.append(s)\n",
        "        \n",
        "        time_dist_res = ([100*(b)/(a+b) for (a,b) in zip(a,n)])\n",
        "        measurements.append(calc_perc(date_anom,date_norm))\n",
        "        \n",
        "\n",
        "        print(time_dist_res)\n",
        "        print(\"|||||||||||||||||||||||||||||||||||||||||||||||||||||||||||||||||||||||||||||||||||||||||||||||||||||||||||||||||||||||||||||||||||||||||||||||\")\n",
        "        buildings.append(building)\n",
        "\n",
        "    print(\"done!\")\n",
        "\n",
        "    #if ds in [\"uk-dale\",\"eco\"]:\n",
        "    all_measurements+=measurements\n",
        "    buildings_check[ds] = buildings\n",
        "\n",
        "measurements = all_measurements"
      ],
      "metadata": {
        "colab": {
          "base_uri": "https://localhost:8080/"
        },
        "id": "pemEmkoVadht",
        "outputId": "82773ff9-c5fc-44ca-b8d8-e3e075b54906"
      },
      "execution_count": 13,
      "outputs": [
        {
          "output_type": "stream",
          "name": "stdout",
          "text": [
            "starting refit\n",
            "starting building 4\n",
            "[98.36065573770492, 94.91525423728814, 89.70588235294117, 86.66666666666667, 88.73239436619718, 84.28571428571429, 78.78787878787878]\n",
            "|||||||||||||||||||||||||||||||||||||||||||||||||||||||||||||||||||||||||||||||||||||||||||||||||||||||||||||||||||||||||||||||||||||||||||||||\n",
            "starting building 16\n",
            "[78.46153846153847, 82.05128205128206, 90.625, 98.82352941176471, 90.21739130434783, 84.52380952380952]\n",
            "|||||||||||||||||||||||||||||||||||||||||||||||||||||||||||||||||||||||||||||||||||||||||||||||||||||||||||||||||||||||||||||||||||||||||||||||\n",
            "starting building 7\n",
            "[82.14285714285714, 73.4375, 91.30434782608695, 76.0, 69.11764705882354, 93.33333333333333, 86.36363636363636]\n",
            "|||||||||||||||||||||||||||||||||||||||||||||||||||||||||||||||||||||||||||||||||||||||||||||||||||||||||||||||||||||||||||||||||||||||||||||||\n",
            "starting building 11\n",
            "[84.0909090909091, 86.66666666666667, 95.23809523809524, 86.36363636363636, 73.33333333333333, 66.66666666666667, 80.0]\n",
            "|||||||||||||||||||||||||||||||||||||||||||||||||||||||||||||||||||||||||||||||||||||||||||||||||||||||||||||||||||||||||||||||||||||||||||||||\n",
            "starting building 14\n",
            "[94.44444444444444, 97.61904761904762, 94.87179487179488, 90.47619047619048, 92.3076923076923, 94.87179487179488]\n",
            "|||||||||||||||||||||||||||||||||||||||||||||||||||||||||||||||||||||||||||||||||||||||||||||||||||||||||||||||||||||||||||||||||||||||||||||||\n",
            "starting building 15\n",
            "[67.27272727272727, 63.492063492063494, 67.79661016949153, 55.38461538461539, 66.12903225806451, 46.15384615384615, 61.666666666666664]\n",
            "|||||||||||||||||||||||||||||||||||||||||||||||||||||||||||||||||||||||||||||||||||||||||||||||||||||||||||||||||||||||||||||||||||||||||||||||\n",
            "starting building 1\n",
            "[70.83333333333333, 70.0, 71.875, 61.76470588235294, 53.333333333333336, 50.0, 70.83333333333333]\n",
            "|||||||||||||||||||||||||||||||||||||||||||||||||||||||||||||||||||||||||||||||||||||||||||||||||||||||||||||||||||||||||||||||||||||||||||||||\n",
            "starting building 2\n",
            "[78.57142857142857, 78.08219178082192, 84.14634146341463, 82.05128205128206, 88.0, 79.48717948717949, 69.73684210526316]\n",
            "|||||||||||||||||||||||||||||||||||||||||||||||||||||||||||||||||||||||||||||||||||||||||||||||||||||||||||||||||||||||||||||||||||||||||||||||\n",
            "starting building 20\n",
            "[40.0, 63.63636363636363, 59.09090909090909, 44.0, 54.54545454545455, 45.45454545454545, 36.36363636363637]\n",
            "|||||||||||||||||||||||||||||||||||||||||||||||||||||||||||||||||||||||||||||||||||||||||||||||||||||||||||||||||||||||||||||||||||||||||||||||\n",
            "starting building 6\n",
            "[96.25, 93.25842696629213, 98.9247311827957, 87.1559633027523, 86.27450980392157, 91.34615384615384, 96.84210526315789]\n",
            "|||||||||||||||||||||||||||||||||||||||||||||||||||||||||||||||||||||||||||||||||||||||||||||||||||||||||||||||||||||||||||||||||||||||||||||||\n",
            "starting building 3\n",
            "[82.65306122448979, 98.96907216494846, 89.7196261682243, 94.64285714285714, 86.60714285714286, 75.89285714285714, 75.47169811320755]\n",
            "|||||||||||||||||||||||||||||||||||||||||||||||||||||||||||||||||||||||||||||||||||||||||||||||||||||||||||||||||||||||||||||||||||||||||||||||\n",
            "starting building 5\n",
            "[92.70833333333333, 94.68085106382979, 93.20388349514563, 93.85964912280701, 97.32142857142857, 94.64285714285714, 93.51851851851852]\n",
            "|||||||||||||||||||||||||||||||||||||||||||||||||||||||||||||||||||||||||||||||||||||||||||||||||||||||||||||||||||||||||||||||||||||||||||||||\n",
            "starting building 10\n",
            "[41.666666666666664, 46.15384615384615, 46.42857142857143, 46.666666666666664, 39.285714285714285, 60.714285714285715, 65.38461538461539]\n",
            "|||||||||||||||||||||||||||||||||||||||||||||||||||||||||||||||||||||||||||||||||||||||||||||||||||||||||||||||||||||||||||||||||||||||||||||||\n",
            "starting building 8\n",
            "[86.53846153846153, 96.42857142857143, 96.72131147540983, 96.875, 90.0, 78.33333333333333, 77.58620689655173]\n",
            "|||||||||||||||||||||||||||||||||||||||||||||||||||||||||||||||||||||||||||||||||||||||||||||||||||||||||||||||||||||||||||||||||||||||||||||||\n",
            "starting building 19\n",
            "[91.35802469135803, 83.52941176470588, 78.88888888888889, 83.83838383838383, 88.88888888888889, 67.77777777777777, 67.77777777777777]\n",
            "|||||||||||||||||||||||||||||||||||||||||||||||||||||||||||||||||||||||||||||||||||||||||||||||||||||||||||||||||||||||||||||||||||||||||||||||\n",
            "starting building 9\n",
            "[93.18181818181819, 79.24528301886792, 83.33333333333333, 83.92857142857143, 88.46153846153847, 78.84615384615384, 77.55102040816327]\n",
            "|||||||||||||||||||||||||||||||||||||||||||||||||||||||||||||||||||||||||||||||||||||||||||||||||||||||||||||||||||||||||||||||||||||||||||||||\n",
            "starting building 18\n",
            "[75.0, 79.3103448275862, 60.60606060606061, 72.22222222222223, 78.78787878787878, 43.333333333333336, 53.57142857142857]\n",
            "|||||||||||||||||||||||||||||||||||||||||||||||||||||||||||||||||||||||||||||||||||||||||||||||||||||||||||||||||||||||||||||||||||||||||||||||\n",
            "starting building 13\n",
            "[77.77777777777777, 92.10526315789474, 97.6470588235294, 91.66666666666667, 91.66666666666667, 86.27450980392157]\n",
            "|||||||||||||||||||||||||||||||||||||||||||||||||||||||||||||||||||||||||||||||||||||||||||||||||||||||||||||||||||||||||||||||||||||||||||||||\n",
            "done!\n"
          ]
        }
      ]
    },
    {
      "cell_type": "code",
      "source": [
        "# Some buildings have to little data for us to calculate the routine recurrence for the whole week. With this piece of code we find which.\n",
        "\n",
        "for ds in [\"refit\"]:  #[\"eco\", \"uk-dale\", \"refit\"]:\n",
        "\n",
        "    print(\"starting\",ds)\n",
        "    time_res = \"days\"\n",
        "    measurements = []\n",
        "    buildings = []\n",
        "    count = 0\n",
        "    lens = []\n",
        "    tl_from =[]\n",
        "    tl_to = []\n",
        "    for building in r[r[\"dataset\"]==ds][\"building\"]:\n",
        "        for key, item in r[r[\"dataset\"]==ds][r[\"building\"]==building].iteritems():\n",
        "            \n",
        "        # To get train data change to key == \"date_norm_train\": ---------------------------- ! importat\n",
        "            if key == \"date_anom_test\":\n",
        "                date_anom = item.to_list()[0]\n",
        "\n",
        "        place,a = (np.unique(np.array([e.isoweekday() for e in date_anom]), return_counts=True))\n",
        "        if len(place)<7: print(f\"We have less data then needed for a whole week in house {building}, that results in days which should be [1,2,3,4,5,6,7] to instead be {place}\")"
      ],
      "metadata": {
        "colab": {
          "base_uri": "https://localhost:8080/"
        },
        "id": "CDHM1jEIgc4O",
        "outputId": "7368403b-3fcb-473d-fc9b-f4dce95abc4c"
      },
      "execution_count": 14,
      "outputs": [
        {
          "output_type": "stream",
          "name": "stdout",
          "text": [
            "starting refit\n",
            "We have less data then needed for a whole week in house 16, that results in days which should be [1,2,3,4,5,6,7] to instead be [1 2 4 5 6 7]\n",
            "We have less data then needed for a whole week in house 14, that results in days which should be [1,2,3,4,5,6,7] to instead be [1 2 3 4 5 6]\n",
            "We have less data then needed for a whole week in house 13, that results in days which should be [1,2,3,4,5,6,7] to instead be [1 2 4 5 6 7]\n"
          ]
        }
      ]
    },
    {
      "cell_type": "code",
      "source": [
        "#|||||||||||||||||||||||||||||||||||||||||||||||||||||||||||||||||||||||||||||||\n",
        "#|||||||||||||||||||||||NumberOfAnomaliesPerDayGraphCode||||||||||||||||||||||||\n",
        "#|||||||||||||||||||||||||||||||||||||||||||||||||||||||||||||||||||||||||||||||\n",
        "\n",
        "for ds in [\"refit\"]:  #[\"eco\", \"uk-dale\", \"refit\"]:\n",
        "\n",
        "    print(\"starting\",ds)\n",
        "    time_res = \"days\"\n",
        "    measurements = []\n",
        "    buildings = []\n",
        "    count = 0\n",
        "    lens = []\n",
        "    tl_from =[]\n",
        "    tl_to = []\n",
        "    for building in r[r[\"dataset\"]==ds][\"building\"]:\n",
        "        print(\"starting building\",building)\n",
        "        for key, item in r[r[\"dataset\"]==ds][r[\"building\"]==building].iteritems():\n",
        "            \n",
        "        # To get train data change to key == \"date_norm_train\": ---------------------------- ! importat\n",
        "            if key == \"date_anom_test\":\n",
        "                date_anom = item.to_list()[0]\n",
        "\n",
        "        # filter dates that are not in certain range\n",
        "        start_d=30\n",
        "        stop_d=37\n",
        "        start_d = dates[start_d*24+6]\n",
        "        stop_d = dates[stop_d*24+6]\n",
        "        date_anom = filter_dates(date_anom, start_d, stop_d)\n",
        "\n",
        "        # get days of the week where anomaly happened into ac\n",
        "        # first we get the place/index where the number of anomalies will lie in the table. \n",
        "        place,a = (np.unique(np.array([e.weekday() for e in date_anom]), return_counts=True))\n",
        "        #print(place)\n",
        "\n",
        "        # then we get the number of anomalies  \n",
        "        NumberOfAnomalies =[]\n",
        "        y=0\n",
        "        for i in range(0,len(date_anom)):\n",
        "          if y < len(date_anom):\n",
        "            d_d = date_anom[y].isoweekday()\n",
        "            count=0\n",
        "            for j in range(y,len(date_anom)):\n",
        "              d_dd = date_anom[j].isoweekday()\n",
        "              if d_d == d_dd:\n",
        "                count=count+1\n",
        "            NumberOfAnomalies.append(count)\n",
        "            y=y+count\n",
        "        #print(NumberOfAnomalies)\n",
        "\n",
        "        # then we put the number of anomalies where it belongs\n",
        "        FinalTable=[0,0,0,0,0,0,0]\n",
        "        for i in range(0,len(place)):\n",
        "          FinalTable[place[i]] = NumberOfAnomalies[i]\n",
        "        print(FinalTable)"
      ],
      "metadata": {
        "colab": {
          "base_uri": "https://localhost:8080/"
        },
        "id": "zLbVJWR6lI34",
        "outputId": "fcdd4820-1d7b-47dd-d046-e72e84cb4128"
      },
      "execution_count": 15,
      "outputs": [
        {
          "output_type": "stream",
          "name": "stdout",
          "text": [
            "starting refit\n",
            "starting building 4\n",
            "[0, 0, 1, 1, 1, 1, 1]\n",
            "starting building 16\n",
            "[0, 0, 0, 0, 0, 1, 0]\n",
            "starting building 7\n",
            "[0, 1, 0, 1, 1, 1, 1]\n",
            "starting building 11\n",
            "[0, 0, 0, 0, 0, 0, 0]\n",
            "starting building 14\n",
            "[0, 0, 0, 0, 0, 0, 0]\n",
            "starting building 15\n",
            "[0, 2, 3, 1, 0, 3, 2]\n",
            "starting building 1\n",
            "[0, 0, 0, 0, 0, 1, 0]\n",
            "starting building 2\n",
            "[0, 0, 0, 0, 0, 1, 0]\n",
            "starting building 20\n",
            "[0, 0, 0, 0, 0, 0, 0]\n",
            "starting building 6\n",
            "[0, 4, 0, 2, 0, 0, 0]\n",
            "starting building 3\n",
            "[0, 0, 1, 0, 1, 1, 0]\n",
            "starting building 5\n",
            "[0, 0, 1, 0, 0, 0, 0]\n",
            "starting building 10\n",
            "[0, 2, 2, 0, 2, 2, 0]\n",
            "starting building 8\n",
            "[0, 2, 0, 0, 1, 2, 2]\n",
            "starting building 19\n",
            "[0, 1, 1, 1, 1, 4, 3]\n",
            "starting building 9\n",
            "[0, 3, 3, 0, 1, 1, 0]\n",
            "starting building 18\n",
            "[0, 1, 3, 1, 1, 1, 2]\n",
            "starting building 13\n",
            "[0, 0, 0, 0, 0, 0, 0]\n"
          ]
        }
      ]
    },
    {
      "cell_type": "code",
      "source": [
        "c = 0\n",
        "for date in dates[1000:-1]:\n",
        "\n",
        "  some_date = date\n",
        "  break\n",
        "\n",
        "some_date = dates[100]\n",
        "some_date2 = dates[300]"
      ],
      "metadata": {
        "id": "buCizyyIG9v0"
      },
      "execution_count": 16,
      "outputs": []
    },
    {
      "cell_type": "code",
      "source": [
        "# Can be a different function for other time ranges \n",
        "def get_routine_for_today(r,day,building):\n",
        "                                          # I guess it must be obtained based on train data\n",
        "  date_anom = (r[r[\"building\"]==building][\"date_anom_train\"].values[0])\n",
        "  date_norm = (r[r[\"building\"]==building][\"date_norm_train\"].values[0])\n",
        "    \n",
        "  _,a = (np.unique(np.array([e.weekday() for e in date_anom]), return_counts=True))\n",
        "  _,n = (np.unique(np.array([e.weekday() for e in date_norm]), return_counts=True))\n",
        "\n",
        "  time_dist_res = ([100*(b)/(a+b) for (a,b) in zip(a,n)])\n",
        "  return time_dist_res[day].round(2)"
      ],
      "metadata": {
        "id": "2IHvwKcOHFEq"
      },
      "execution_count": 17,
      "outputs": []
    },
    {
      "cell_type": "code",
      "source": [
        "# returns the date and time and accuracy of prediction, neede for the code below\n",
        "def last_anomaly_detected(building: int, day: int):\n",
        "  anoms = (r[r[\"building\"]==building][\"date_anom_test\"].values[0])\n",
        "  now = day*24+6\n",
        "  count=0\n",
        "  time_past_anoms=[]\n",
        "  for i in range(0, now):\n",
        "    if dates[i] in anoms:\n",
        "      time_past_anoms.append(i)\n",
        "      count=count+1\n",
        "  TimeLastAnomaly=time_past_anoms[count-1]\n",
        "  time=dates[TimeLastAnomaly]\n",
        "  chance=get_routine_for_today(r,time.weekday(),building)\n",
        "  return time, chance"
      ],
      "metadata": {
        "id": "QFYhYUieU_Ri"
      },
      "execution_count": 18,
      "outputs": []
    },
    {
      "cell_type": "code",
      "source": [
        "#|||||||||||||||||||||||||||||||||||||||||||||||||||||||||||||||||||||||\n",
        "#|||||||||||||||LastAnomalyDetectedInfoBoxAndPieChart|||||||||||||||||||\n",
        "#|||||||||||||||||||||||||||||||||||||||||||||||||||||||||||||||||||||||\n",
        "day=40 #(15.4)\n",
        "print(last_anomaly_detected(1,day))\n",
        "print(last_anomaly_detected(2,day))\n",
        "print(last_anomaly_detected(3,day))\n",
        "print(last_anomaly_detected(4,day))\n",
        "print(last_anomaly_detected(5,day))\n",
        "print(last_anomaly_detected(6,day))\n",
        "print(last_anomaly_detected(7,day))\n",
        "print(last_anomaly_detected(8,day))\n",
        "print(last_anomaly_detected(9,day))\n",
        "print(last_anomaly_detected(10,day))\n",
        "print(last_anomaly_detected(11,day))\n",
        "print(last_anomaly_detected(13,day))\n",
        "print(last_anomaly_detected(14,day))\n",
        "print(last_anomaly_detected(15,day))\n",
        "print(last_anomaly_detected(16,day))\n",
        "print(last_anomaly_detected(18,day))\n",
        "print(last_anomaly_detected(19,day))\n",
        "print(last_anomaly_detected(20,day))"
      ],
      "metadata": {
        "colab": {
          "base_uri": "https://localhost:8080/"
        },
        "id": "JfTzmCKPooWv",
        "outputId": "f38e0e2d-bcfb-4860-b699-60c645306431"
      },
      "execution_count": 19,
      "outputs": [
        {
          "output_type": "stream",
          "name": "stdout",
          "text": [
            "(Timestamp('2015-04-11 18:00:00', freq='H'), 58.33)\n",
            "(Timestamp('2015-04-11 14:00:00', freq='H'), 69.29)\n",
            "(Timestamp('2015-04-15 08:00:00', freq='H'), 79.23)\n",
            "(Timestamp('2015-04-15 16:00:00', freq='H'), 82.93)\n",
            "(Timestamp('2015-04-08 04:00:00', freq='H'), 84.33)\n",
            "(Timestamp('2015-04-13 16:00:00', freq='H'), 97.6)\n",
            "(Timestamp('2015-04-14 16:00:00', freq='H'), 81.76)\n",
            "(Timestamp('2015-04-13 10:00:00', freq='H'), 85.33)\n",
            "(Timestamp('2015-04-14 16:00:00', freq='H'), 74.78)\n",
            "(Timestamp('2015-04-15 18:00:00', freq='H'), 82.26)\n",
            "(Timestamp('2015-04-15 20:00:00', freq='H'), 78.2)\n",
            "(Timestamp('2015-03-10 06:00:00', freq='H'), 95.53)\n",
            "(Timestamp('2015-04-15 20:00:00', freq='H'), 91.95)\n",
            "(Timestamp('2015-04-15 14:00:00', freq='H'), 86.64)\n",
            "(Timestamp('2015-04-14 18:00:00', freq='H'), 81.19)\n",
            "(Timestamp('2015-04-14 16:00:00', freq='H'), 82.69)\n",
            "(Timestamp('2015-04-15 10:00:00', freq='H'), 93.59)\n",
            "(Timestamp('2015-04-15 18:00:00', freq='H'), 77.78)\n"
          ]
        }
      ]
    },
    {
      "cell_type": "code",
      "source": [
        "#|||||||||||||||||||||||||||||||||||||||||||||||||||||||||||||||||||||||\n",
        "#|||||||||||||||||||||||RoutineImprovementAdvicePart||||||||||||||||||||\n",
        "#|||||||||||||||||||||||||||||||||||||||||||||||||||||||||||||||||||||||\n",
        "for i in range(1,12):\n",
        "  print(i)\n",
        "  stds = (r[r[\"building\"]==i][\"stds\"].values[0])\n",
        "  srt = sorted(stds.items(), key=lambda item: item[1])\n",
        "  print(\"best 3\",srt[-4:-1])  \n",
        "  print(\"worst 3\",srt[:3])\n",
        "  print(\"---------------------------------------------------------------------------------------------------------------\")\n",
        "for i in range(13,17):\n",
        "  print(i)\n",
        "  stds = (r[r[\"building\"]==i][\"stds\"].values[0])\n",
        "  srt = sorted(stds.items(), key=lambda item: item[1])\n",
        "  print(\"best 3\",srt[-4:-1])  \n",
        "  print(\"worst 3\",srt[:3])\n",
        "  print(\"---------------------------------------------------------------------------------------------------------------\")\n",
        "for i in range(18,21):\n",
        "  print(i)\n",
        "  stds = (r[r[\"building\"]==i][\"stds\"].values[0])\n",
        "  srt = sorted(stds.items(), key=lambda item: item[1])\n",
        "  print(\"best 3\",srt[-4:-1])  \n",
        "  print(\"worst 3\",srt[:3])\n",
        "  print(\"---------------------------------------------------------------------------------------------------------------\")  "
      ],
      "metadata": {
        "colab": {
          "base_uri": "https://localhost:8080/"
        },
        "id": "CUvD5kD3N7rT",
        "outputId": "e3d07d53-ae8a-420a-8e07-f3f85ec850c0"
      },
      "execution_count": 20,
      "outputs": [
        {
          "output_type": "stream",
          "name": "stdout",
          "text": [
            "1\n",
            "best 3 [('television', 0.31022284150978136), ('computer', 0.31797472735977506), ('washing machine', 0.32359836116461177)]\n",
            "worst 3 [('freezer', 0.004686189656407015), ('fridge', 0.046197303640893445), ('washer dryer', 0.24612218853090592)]\n",
            "---------------------------------------------------------------------------------------------------------------\n",
            "2\n",
            "best 3 [('television', 0.3106948557254241), ('kettle', 0.3312825460412911), ('microwave', 0.3315762205490248)]\n",
            "worst 3 [('fridge freezer', 0.03135593175843758), ('audio system', 0.19580159001851083), ('fan', 0.26944959099695465)]\n",
            "---------------------------------------------------------------------------------------------------------------\n",
            "3\n",
            "best 3 [('kettle', 0.3076873844969109), ('toaster', 0.3308511910084167), ('television', 0.33886328394748483)]\n",
            "worst 3 [('freezer', 0.0112036676582838), ('fridge freezer', 0.028570406703842383), ('microwave', 0.2824666945964452)]\n",
            "---------------------------------------------------------------------------------------------------------------\n",
            "4\n",
            "best 3 [('kettle', 0.28107959538234417), ('tumble dryer', 0.3188912934762861), ('television', 0.32102362348025204)]\n",
            "worst 3 [('fridge freezer', 0.011314938550249651), ('freezer', 0.012003779464666514), ('fridge', 0.06935745182727114)]\n",
            "---------------------------------------------------------------------------------------------------------------\n",
            "5\n",
            "best 3 [('kettle', 0.3004889996137777), ('washing machine', 0.31206619389560425), ('television', 0.3396773238979288)]\n",
            "worst 3 [('fridge freezer', 0.003163620594338315), ('computer', 0.10921332422500567), ('dish washer', 0.24955784192419894)]\n",
            "---------------------------------------------------------------------------------------------------------------\n",
            "6\n",
            "best 3 [('washing machine', 0.301804940685573), ('kettle', 0.3208264048098537), ('computer', 0.34521757826760724)]\n",
            "worst 3 [('freezer', 0.005051783320382008), ('television', 0.17853360419773429), ('toaster', 0.28982241971399164)]\n",
            "---------------------------------------------------------------------------------------------------------------\n",
            "7\n",
            "best 3 [('kettle', 0.3196291747811525), ('dish washer', 0.33561458898617624), ('television', 0.33733569937700564)]\n",
            "worst 3 [('freezer', 0.006601823959202669), ('fridge', 0.016051137572356093), ('washing machine', 0.29423637173465805)]\n",
            "---------------------------------------------------------------------------------------------------------------\n",
            "8\n",
            "best 3 [('microwave', 0.2894748224451215), ('washing machine', 0.3206894100426339), ('television', 0.34895232469555876)]\n",
            "worst 3 [('computer', 0.007113759572342318), ('freezer', 0.013278518406460948), ('fridge', 0.023639298269001)]\n",
            "---------------------------------------------------------------------------------------------------------------\n",
            "9\n",
            "best 3 [('dish washer', 0.30450051450794824), ('electric space heater', 0.31607562653755583), ('kettle', 0.3246467633497667)]\n",
            "worst 3 [('fridge freezer', 0.006963467529600993), ('television', 0.09127623086951486), ('audio system', 0.25704696036730035)]\n",
            "---------------------------------------------------------------------------------------------------------------\n",
            "10\n",
            "best 3 [('food processor', 0.17090846006173682), ('washing machine', 0.2897995216777218), ('dish washer', 0.3039653509171756)]\n",
            "worst 3 [('freezer', 0.00839105629357963), ('television', 0.009262137478131906), ('toaster', 0.022240329393221358)]\n",
            "---------------------------------------------------------------------------------------------------------------\n",
            "11\n",
            "best 3 [('dish washer', 0.27868333120761013), ('kettle', 0.2819172004741373), ('audio system', 0.2837006534772166)]\n",
            "worst 3 [('broadband router', 0.008695059333443124), ('microwave', 0.008869061759176117), ('fridge', 0.03719038424647319)]\n",
            "---------------------------------------------------------------------------------------------------------------\n",
            "13\n",
            "best 3 [('dish washer', 0.3403719344289105), ('kettle', 0.34415155981118023), ('unknown', 0.37632460745422097)]\n",
            "worst 3 [('microwave', 0.182785222226775), ('television', 0.30272247318616746), ('broadband router', 0.3301842836401787)]\n",
            "---------------------------------------------------------------------------------------------------------------\n",
            "14\n",
            "best 3 [('television', 0.3238224042122562), ('toaster', 0.3266224980552131), ('washing machine', 0.33213366063081695)]\n",
            "worst 3 [('fridge freezer', 0.04064425667505461), ('dish washer', 0.23950475641346083), ('computer', 0.24299008960056825)]\n",
            "---------------------------------------------------------------------------------------------------------------\n",
            "15\n",
            "best 3 [('washing machine', 0.3009758570200039), ('television', 0.30459891960757507), ('dehumidifier', 0.3132701599230446)]\n",
            "worst 3 [('fridge freezer', 0.028664192115658054), ('computer', 0.07616887412894212), ('dish washer', 0.27276151009070154)]\n",
            "---------------------------------------------------------------------------------------------------------------\n",
            "16\n",
            "best 3 [('washing machine', 0.32214003474962205), ('kettle', 0.3309255391302168), ('tumble dryer', 0.34356094377133156)]\n",
            "worst 3 [('freezer', 0.006238978731479324), ('fridge freezer', 0.007456880315126354), ('microwave', 0.018960988661702156)]\n",
            "---------------------------------------------------------------------------------------------------------------\n",
            "18\n",
            "best 3 [('games console', 0.3129407509995063), ('breadmaker', 0.31394840744464236), ('microwave', 0.33329716463207076)]\n",
            "worst 3 [('fridge freezer', 0.008785329196046939), ('television', 0.015401272570721885), ('audio system', 0.2143607259582159)]\n",
            "---------------------------------------------------------------------------------------------------------------\n",
            "19\n",
            "best 3 [('tumble dryer', 0.2929945603183823), ('computer', 0.32043314558967617), ('dish washer', 0.3439238366694164)]\n",
            "worst 3 [('fridge', 0.004233749881321694), ('freezer', 0.009736987965056919), ('microwave', 0.11619958422579245)]\n",
            "---------------------------------------------------------------------------------------------------------------\n",
            "20\n",
            "best 3 [('washing machine', 0.3082798754103169), ('tumble dryer', 0.32690736513275553), ('television', 0.33144283846050726)]\n",
            "worst 3 [('pond pump', 0.007755141639643092), ('appliance', 0.008538403060833243), ('fridge freezer', 0.03382834868716925)]\n",
            "---------------------------------------------------------------------------------------------------------------\n"
          ]
        }
      ]
    },
    {
      "cell_type": "code",
      "source": [
        "#|||||||||||||||||||||||||||||||||||||||||||||||||||||||||||||||||||||||||||||||||||||||||||\n",
        "#|||||||||||InterpratesDiviationAndWritesCodeThatCanBeCopyPastedIntoTheApp||||||||||||||||||\n",
        "#|||||||||||||||||||||||||||||||||||||||||||||||||||||||||||||||||||||||||||||||||||||||||||\n",
        "for i in range(1,12):\n",
        "  print(\"building: \", i)\n",
        "  stds = (r[r[\"building\"]==i][\"stds\"].values[0])\n",
        "  srt = sorted(stds.items(), key=lambda item: item[1])\n",
        "  good_bad=[]\n",
        "  for h in range(0,3):\n",
        "    if srt[-4:-1][h][1]>0.35:\n",
        "      good_bad.append(\"excellent\")\n",
        "    elif srt[-4:-1][h][1]>0.32:\n",
        "      good_bad.append(\"very good\")\n",
        "    elif srt[-4:-1][h][1]>0.29:\n",
        "      good_bad.append(\"good\")\n",
        "    elif srt[-4:-1][h][1]>0.25:\n",
        "      good_bad.append(\"quite good\")\n",
        "    elif srt[-4:-1][h][1]>0.2:\n",
        "      good_bad.append(\"decent\")\n",
        "    elif srt[-4:-1][h][1]>0.15:\n",
        "      good_bad.append(\"usable\")\n",
        "    elif srt[-4:-1][h][1]>0.1:\n",
        "      good_bad.append(\"almost usable\")\n",
        "    else:\n",
        "      good_bad.append(\"useless\")\n",
        "\n",
        "  best_table=[]\n",
        "  for u in range(0,3):\n",
        "    best_table.append(good_bad[2-u])\n",
        "  best_names=[]\n",
        "  for x in range(0,3):\n",
        "    best_names.append(srt[-4:-1][2-x][0])\n",
        "  #print(best_names)\n",
        "  #print(best_table)\n",
        "  bad=[]\n",
        "  for h in range(0,3):\n",
        "    if srt[:3][h][1]>0.35:\n",
        "      bad.append(\"excellent\")\n",
        "    elif srt[:3][h][1]>0.32:\n",
        "      bad.append(\"very good\")\n",
        "    elif srt[:3][h][1]>0.29:\n",
        "      bad.append(\"good\")\n",
        "    elif srt[:3][h][1]>0.25:\n",
        "      bad.append(\"quite good\")\n",
        "    elif srt[:3][h][1]>0.2:\n",
        "      bad.append(\"decent\")\n",
        "    elif srt[:3][h][1]>0.15:\n",
        "      bad.append(\"usable\")\n",
        "    elif srt[:3][h][1]>0.1:\n",
        "      bad.append(\"almost usable\")\n",
        "    else:\n",
        "      bad.append(\"useless\")\n",
        "  worst_names=[]\n",
        "  for x in range(0,3):\n",
        "    worst_names.append(srt[:3][2-x][0])\n",
        "  worst_table=[]\n",
        "  for u in range(0,3):\n",
        "    worst_table.append(bad[2-u])\n",
        "  #print(worst_names)\n",
        "  #print(worst_table)\n",
        "  #print(\"|||||||||||||||||||||||||||||||||||||||||||||||||||||||||||||||||||||||||||||||||||||||||||||||||||||||||||||||||||||||||||||\")\n",
        "  print(\"    column2.subheader('Best 3:')\")\n",
        "  for y in range(0,3):\n",
        "    print(f\"    column2.metric(label='{best_names[y]}', value='{best_table[y]}')\")\n",
        "  print(\"    column2.subheader('Worst 3:')\")\n",
        "  for z in range(0,3):\n",
        "    print(f\"    column2.metric(label='{worst_names[z]}', value='{worst_table[z]}')\")\n",
        "for i in range(13,17):\n",
        "  print(\"building: \", i)\n",
        "  stds = (r[r[\"building\"]==i][\"stds\"].values[0])\n",
        "  srt = sorted(stds.items(), key=lambda item: item[1])\n",
        "  good_bad=[]\n",
        "  for h in range(0,3):\n",
        "    if srt[-4:-1][h][1]>0.35:\n",
        "      good_bad.append(\"excellent\")\n",
        "    elif srt[-4:-1][h][1]>0.32:\n",
        "      good_bad.append(\"very good\")\n",
        "    elif srt[-4:-1][h][1]>0.29:\n",
        "      good_bad.append(\"good\")\n",
        "    elif srt[-4:-1][h][1]>0.25:\n",
        "      good_bad.append(\"quite good\")\n",
        "    elif srt[-4:-1][h][1]>0.2:\n",
        "      good_bad.append(\"decent\")\n",
        "    elif srt[-4:-1][h][1]>0.15:\n",
        "      good_bad.append(\"usable\")\n",
        "    elif srt[-4:-1][h][1]>0.1:\n",
        "      good_bad.append(\"almost usable\")\n",
        "    else:\n",
        "      good_bad.append(\"useless\")\n",
        "\n",
        "  best_table=[]\n",
        "  for u in range(0,3):\n",
        "    best_table.append(good_bad[2-u])\n",
        "  best_names=[]\n",
        "  for x in range(0,3):\n",
        "    best_names.append(srt[-4:-1][2-x][0])\n",
        "  #print(best_names)\n",
        "  #print(best_table)\n",
        "  bad=[]\n",
        "  for h in range(0,3):\n",
        "    if srt[:3][h][1]>0.35:\n",
        "      bad.append(\"excellent\")\n",
        "    elif srt[:3][h][1]>0.32:\n",
        "      bad.append(\"very good\")\n",
        "    elif srt[:3][h][1]>0.29:\n",
        "      bad.append(\"good\")\n",
        "    elif srt[:3][h][1]>0.25:\n",
        "      bad.append(\"quite good\")\n",
        "    elif srt[:3][h][1]>0.2:\n",
        "      bad.append(\"decent\")\n",
        "    elif srt[:3][h][1]>0.15:\n",
        "      bad.append(\"usable\")\n",
        "    elif srt[:3][h][1]>0.1:\n",
        "      bad.append(\"almost usable\")\n",
        "    else:\n",
        "      bad.append(\"useless\")\n",
        "  worst_names=[]\n",
        "  for x in range(0,3):\n",
        "    worst_names.append(srt[:3][2-x][0])\n",
        "  worst_table=[]\n",
        "  for u in range(0,3):\n",
        "    worst_table.append(bad[2-u])\n",
        "  #print(worst_names)\n",
        "  #print(worst_table)\n",
        "  #print(\"|||||||||||||||||||||||||||||||||||||||||||||||||||||||||||||||||||||||||||||||||||||||||||||||||||||||||||||||||||||||||||||\")\n",
        "  print(\"    column2.subheader('Best 3:')\")\n",
        "  for y in range(0,3):\n",
        "    print(f\"    column2.metric(label='{best_names[y]}', value='{best_table[y]}')\")\n",
        "  print(\"    column2.subheader('Worst 3:')\")\n",
        "  for z in range(0,3):\n",
        "    print(f\"    column2.metric(label='{worst_names[z]}', value='{worst_table[z]}')\")\n",
        "for i in range(18,21):\n",
        "  print(\"building: \", i)\n",
        "  stds = (r[r[\"building\"]==i][\"stds\"].values[0])\n",
        "  srt = sorted(stds.items(), key=lambda item: item[1])\n",
        "  good_bad=[]\n",
        "  for h in range(0,3):\n",
        "    if srt[-4:-1][h][1]>0.35:\n",
        "      good_bad.append(\"excellent\")\n",
        "    elif srt[-4:-1][h][1]>0.32:\n",
        "      good_bad.append(\"very good\")\n",
        "    elif srt[-4:-1][h][1]>0.29:\n",
        "      good_bad.append(\"good\")\n",
        "    elif srt[-4:-1][h][1]>0.25:\n",
        "      good_bad.append(\"quite good\")\n",
        "    elif srt[-4:-1][h][1]>0.2:\n",
        "      good_bad.append(\"decent\")\n",
        "    elif srt[-4:-1][h][1]>0.15:\n",
        "      good_bad.append(\"usable\")\n",
        "    elif srt[-4:-1][h][1]>0.1:\n",
        "      good_bad.append(\"almost usable\")\n",
        "    else:\n",
        "      good_bad.append(\"useless\")\n",
        "\n",
        "  best_table=[]\n",
        "  for u in range(0,3):\n",
        "    best_table.append(good_bad[2-u])\n",
        "  best_names=[]\n",
        "  for x in range(0,3):\n",
        "    best_names.append(srt[-4:-1][2-x][0])\n",
        "  #print(best_names)\n",
        "  #print(best_table)\n",
        "  bad=[]\n",
        "  for h in range(0,3):\n",
        "    if srt[:3][h][1]>0.35:\n",
        "      bad.append(\"excellent\")\n",
        "    elif srt[:3][h][1]>0.32:\n",
        "      bad.append(\"very good\")\n",
        "    elif srt[:3][h][1]>0.29:\n",
        "      bad.append(\"good\")\n",
        "    elif srt[:3][h][1]>0.25:\n",
        "      bad.append(\"quite good\")\n",
        "    elif srt[:3][h][1]>0.2:\n",
        "      bad.append(\"decent\")\n",
        "    elif srt[:3][h][1]>0.15:\n",
        "      bad.append(\"usable\")\n",
        "    elif srt[:3][h][1]>0.1:\n",
        "      bad.append(\"almost usable\")\n",
        "    else:\n",
        "      bad.append(\"useless\")\n",
        "  worst_names=[]\n",
        "  for x in range(0,3):\n",
        "    worst_names.append(srt[:3][2-x][0])\n",
        "  worst_table=[]\n",
        "  for u in range(0,3):\n",
        "    worst_table.append(bad[2-u])\n",
        "  #print(worst_names)\n",
        "  #print(worst_table)\n",
        "  #print(\"|||||||||||||||||||||||||||||||||||||||||||||||||||||||||||||||||||||||||||||||||||||||||||||||||||||||||||||||||||||||||||||\")\n",
        "  print(\"    column2.subheader('Best 3:')\")\n",
        "  for y in range(0,3):\n",
        "    print(f\"    column2.metric(label='{best_names[y]}', value='{best_table[y]}')\")\n",
        "  print(\"    column2.subheader('Worst 3:')\")\n",
        "  for z in range(0,3):\n",
        "    print(f\"    column2.metric(label='{worst_names[z]}', value='{worst_table[z]}')\")"
      ],
      "metadata": {
        "colab": {
          "base_uri": "https://localhost:8080/"
        },
        "id": "VV9XLW26fyUL",
        "outputId": "3742114a-1a71-42a5-afae-487ef2bc6195"
      },
      "execution_count": 78,
      "outputs": [
        {
          "output_type": "stream",
          "name": "stdout",
          "text": [
            "building:  1\n",
            "    column2.subheader('Best 3:')\n",
            "    column2.metric(label='washing machine', value='very good')\n",
            "    column2.metric(label='computer', value='good')\n",
            "    column2.metric(label='television', value='good')\n",
            "    column2.subheader('Worst 3:')\n",
            "    column2.metric(label='washer dryer', value='decent')\n",
            "    column2.metric(label='fridge', value='useless')\n",
            "    column2.metric(label='freezer', value='useless')\n",
            "building:  2\n",
            "    column2.subheader('Best 3:')\n",
            "    column2.metric(label='microwave', value='very good')\n",
            "    column2.metric(label='kettle', value='very good')\n",
            "    column2.metric(label='television', value='good')\n",
            "    column2.subheader('Worst 3:')\n",
            "    column2.metric(label='fan', value='quite good')\n",
            "    column2.metric(label='audio system', value='usable')\n",
            "    column2.metric(label='fridge freezer', value='useless')\n",
            "building:  3\n",
            "    column2.subheader('Best 3:')\n",
            "    column2.metric(label='television', value='very good')\n",
            "    column2.metric(label='toaster', value='very good')\n",
            "    column2.metric(label='kettle', value='good')\n",
            "    column2.subheader('Worst 3:')\n",
            "    column2.metric(label='microwave', value='quite good')\n",
            "    column2.metric(label='fridge freezer', value='useless')\n",
            "    column2.metric(label='freezer', value='useless')\n",
            "building:  4\n",
            "    column2.subheader('Best 3:')\n",
            "    column2.metric(label='television', value='very good')\n",
            "    column2.metric(label='tumble dryer', value='good')\n",
            "    column2.metric(label='kettle', value='quite good')\n",
            "    column2.subheader('Worst 3:')\n",
            "    column2.metric(label='fridge', value='useless')\n",
            "    column2.metric(label='freezer', value='useless')\n",
            "    column2.metric(label='fridge freezer', value='useless')\n",
            "building:  5\n",
            "    column2.subheader('Best 3:')\n",
            "    column2.metric(label='television', value='very good')\n",
            "    column2.metric(label='washing machine', value='good')\n",
            "    column2.metric(label='kettle', value='good')\n",
            "    column2.subheader('Worst 3:')\n",
            "    column2.metric(label='dish washer', value='decent')\n",
            "    column2.metric(label='computer', value='almost usable')\n",
            "    column2.metric(label='fridge freezer', value='useless')\n",
            "building:  6\n",
            "    column2.subheader('Best 3:')\n",
            "    column2.metric(label='computer', value='very good')\n",
            "    column2.metric(label='kettle', value='very good')\n",
            "    column2.metric(label='washing machine', value='good')\n",
            "    column2.subheader('Worst 3:')\n",
            "    column2.metric(label='toaster', value='quite good')\n",
            "    column2.metric(label='television', value='usable')\n",
            "    column2.metric(label='freezer', value='useless')\n",
            "building:  7\n",
            "    column2.subheader('Best 3:')\n",
            "    column2.metric(label='television', value='very good')\n",
            "    column2.metric(label='dish washer', value='very good')\n",
            "    column2.metric(label='kettle', value='good')\n",
            "    column2.subheader('Worst 3:')\n",
            "    column2.metric(label='washing machine', value='good')\n",
            "    column2.metric(label='fridge', value='useless')\n",
            "    column2.metric(label='freezer', value='useless')\n",
            "building:  8\n",
            "    column2.subheader('Best 3:')\n",
            "    column2.metric(label='television', value='very good')\n",
            "    column2.metric(label='washing machine', value='very good')\n",
            "    column2.metric(label='microwave', value='quite good')\n",
            "    column2.subheader('Worst 3:')\n",
            "    column2.metric(label='fridge', value='useless')\n",
            "    column2.metric(label='freezer', value='useless')\n",
            "    column2.metric(label='computer', value='useless')\n",
            "building:  9\n",
            "    column2.subheader('Best 3:')\n",
            "    column2.metric(label='kettle', value='very good')\n",
            "    column2.metric(label='electric space heater', value='good')\n",
            "    column2.metric(label='dish washer', value='good')\n",
            "    column2.subheader('Worst 3:')\n",
            "    column2.metric(label='audio system', value='quite good')\n",
            "    column2.metric(label='television', value='useless')\n",
            "    column2.metric(label='fridge freezer', value='useless')\n",
            "building:  10\n",
            "    column2.subheader('Best 3:')\n",
            "    column2.metric(label='dish washer', value='good')\n",
            "    column2.metric(label='washing machine', value='quite good')\n",
            "    column2.metric(label='food processor', value='usable')\n",
            "    column2.subheader('Worst 3:')\n",
            "    column2.metric(label='toaster', value='useless')\n",
            "    column2.metric(label='television', value='useless')\n",
            "    column2.metric(label='freezer', value='useless')\n",
            "building:  11\n",
            "    column2.subheader('Best 3:')\n",
            "    column2.metric(label='audio system', value='quite good')\n",
            "    column2.metric(label='kettle', value='quite good')\n",
            "    column2.metric(label='dish washer', value='quite good')\n",
            "    column2.subheader('Worst 3:')\n",
            "    column2.metric(label='fridge', value='useless')\n",
            "    column2.metric(label='microwave', value='useless')\n",
            "    column2.metric(label='broadband router', value='useless')\n",
            "building:  13\n",
            "    column2.subheader('Best 3:')\n",
            "    column2.metric(label='unknown', value='excellent')\n",
            "    column2.metric(label='kettle', value='very good')\n",
            "    column2.metric(label='dish washer', value='very good')\n",
            "    column2.subheader('Worst 3:')\n",
            "    column2.metric(label='broadband router', value='very good')\n",
            "    column2.metric(label='television', value='good')\n",
            "    column2.metric(label='microwave', value='usable')\n",
            "building:  14\n",
            "    column2.subheader('Best 3:')\n",
            "    column2.metric(label='washing machine', value='very good')\n",
            "    column2.metric(label='toaster', value='very good')\n",
            "    column2.metric(label='television', value='very good')\n",
            "    column2.subheader('Worst 3:')\n",
            "    column2.metric(label='computer', value='decent')\n",
            "    column2.metric(label='dish washer', value='decent')\n",
            "    column2.metric(label='fridge freezer', value='useless')\n",
            "building:  15\n",
            "    column2.subheader('Best 3:')\n",
            "    column2.metric(label='dehumidifier', value='good')\n",
            "    column2.metric(label='television', value='good')\n",
            "    column2.metric(label='washing machine', value='good')\n",
            "    column2.subheader('Worst 3:')\n",
            "    column2.metric(label='dish washer', value='quite good')\n",
            "    column2.metric(label='computer', value='useless')\n",
            "    column2.metric(label='fridge freezer', value='useless')\n",
            "building:  16\n",
            "    column2.subheader('Best 3:')\n",
            "    column2.metric(label='tumble dryer', value='very good')\n",
            "    column2.metric(label='kettle', value='very good')\n",
            "    column2.metric(label='washing machine', value='very good')\n",
            "    column2.subheader('Worst 3:')\n",
            "    column2.metric(label='microwave', value='useless')\n",
            "    column2.metric(label='fridge freezer', value='useless')\n",
            "    column2.metric(label='freezer', value='useless')\n",
            "building:  18\n",
            "    column2.subheader('Best 3:')\n",
            "    column2.metric(label='microwave', value='very good')\n",
            "    column2.metric(label='breadmaker', value='good')\n",
            "    column2.metric(label='games console', value='good')\n",
            "    column2.subheader('Worst 3:')\n",
            "    column2.metric(label='audio system', value='decent')\n",
            "    column2.metric(label='television', value='useless')\n",
            "    column2.metric(label='fridge freezer', value='useless')\n",
            "building:  19\n",
            "    column2.subheader('Best 3:')\n",
            "    column2.metric(label='dish washer', value='very good')\n",
            "    column2.metric(label='computer', value='very good')\n",
            "    column2.metric(label='tumble dryer', value='good')\n",
            "    column2.subheader('Worst 3:')\n",
            "    column2.metric(label='microwave', value='almost usable')\n",
            "    column2.metric(label='freezer', value='useless')\n",
            "    column2.metric(label='fridge', value='useless')\n",
            "building:  20\n",
            "    column2.subheader('Best 3:')\n",
            "    column2.metric(label='television', value='very good')\n",
            "    column2.metric(label='tumble dryer', value='very good')\n",
            "    column2.metric(label='washing machine', value='good')\n",
            "    column2.subheader('Worst 3:')\n",
            "    column2.metric(label='fridge freezer', value='useless')\n",
            "    column2.metric(label='appliance', value='useless')\n",
            "    column2.metric(label='pond pump', value='useless')\n"
          ]
        }
      ]
    }
  ]
}